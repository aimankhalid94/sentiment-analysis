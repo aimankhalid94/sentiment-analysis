{
 "cells": [
  {
   "cell_type": "code",
   "execution_count": 1,
   "metadata": {},
   "outputs": [],
   "source": [
    "import numpy as np\n",
    "import pandas as pd\n",
    "import os\n",
    "import seaborn as sns\n",
    "import matplotlib.pyplot as plt\n",
    "%matplotlib inline"
   ]
  },
  {
   "cell_type": "code",
   "execution_count": 31,
   "metadata": {},
   "outputs": [],
   "source": [
    "df= pd.read_csv(\"restaurant review comments.csv\",encoding = \"ISO-8859-1\")"
   ]
  },
  {
   "cell_type": "code",
   "execution_count": 5,
   "metadata": {},
   "outputs": [
    {
     "data": {
      "text/html": [
       "<div>\n",
       "<style scoped>\n",
       "    .dataframe tbody tr th:only-of-type {\n",
       "        vertical-align: middle;\n",
       "    }\n",
       "\n",
       "    .dataframe tbody tr th {\n",
       "        vertical-align: top;\n",
       "    }\n",
       "\n",
       "    .dataframe thead th {\n",
       "        text-align: right;\n",
       "    }\n",
       "</style>\n",
       "<table border=\"1\" class=\"dataframe\">\n",
       "  <thead>\n",
       "    <tr style=\"text-align: right;\">\n",
       "      <th></th>\n",
       "      <th>tweet</th>\n",
       "      <th>senti</th>\n",
       "    </tr>\n",
       "  </thead>\n",
       "  <tbody>\n",
       "    <tr>\n",
       "      <th>0</th>\n",
       "      <td>turn off betul kedai makan bancuh air tak seda...</td>\n",
       "      <td>-1</td>\n",
       "    </tr>\n",
       "    <tr>\n",
       "      <th>1</th>\n",
       "      <td>Mende tah aku makan tadi. Tak sedap. *sebab bo...</td>\n",
       "      <td>-1</td>\n",
       "    </tr>\n",
       "    <tr>\n",
       "      <th>2</th>\n",
       "      <td>@nikasyrvf Mestii, sini kedai makan bukan seda...</td>\n",
       "      <td>-1</td>\n",
       "    </tr>\n",
       "    <tr>\n",
       "      <th>3</th>\n",
       "      <td>Tapi milo dekat fast food restaurant tak sedap...</td>\n",
       "      <td>-1</td>\n",
       "    </tr>\n",
       "    <tr>\n",
       "      <th>4</th>\n",
       "      <td>Semua makanan bau tengik. Loya tekak dibuatnya...</td>\n",
       "      <td>-1</td>\n",
       "    </tr>\n",
       "  </tbody>\n",
       "</table>\n",
       "</div>"
      ],
      "text/plain": [
       "                                               tweet  senti\n",
       "0  turn off betul kedai makan bancuh air tak seda...     -1\n",
       "1  Mende tah aku makan tadi. Tak sedap. *sebab bo...     -1\n",
       "2  @nikasyrvf Mestii, sini kedai makan bukan seda...     -1\n",
       "3  Tapi milo dekat fast food restaurant tak sedap...     -1\n",
       "4  Semua makanan bau tengik. Loya tekak dibuatnya...     -1"
      ]
     },
     "execution_count": 5,
     "metadata": {},
     "output_type": "execute_result"
    }
   ],
   "source": [
    "df.head()"
   ]
  },
  {
   "cell_type": "code",
   "execution_count": 7,
   "metadata": {},
   "outputs": [
    {
     "data": {
      "text/plain": [
       " 1    280\n",
       "-1    183\n",
       " 0    137\n",
       "Name: senti, dtype: int64"
      ]
     },
     "execution_count": 7,
     "metadata": {},
     "output_type": "execute_result"
    }
   ],
   "source": [
    "class_count = df['senti'].value_counts()\n",
    "class_count"
   ]
  },
  {
   "cell_type": "code",
   "execution_count": 8,
   "metadata": {},
   "outputs": [
    {
     "data": {
      "text/plain": [
       "Text(0, 0.5, 'Number of reviews ')"
      ]
     },
     "execution_count": 8,
     "metadata": {},
     "output_type": "execute_result"
    },
    {
     "data": {
      "image/png": "[encoded data removed]",
      "text/plain": [
       "<Figure size 576x360 with 1 Axes>"
      ]
     },
     "metadata": {
      "needs_background": "light"
     },
     "output_type": "display_data"
    }
   ],
   "source": [
    "x = np.array(class_count.index)\n",
    "y = np.array(class_count.values)\n",
    "plt.figure(figsize=(8,5))\n",
    "sns.barplot(x,y)\n",
    "plt.xlabel('Sentiment ')\n",
    "plt.ylabel('Number of reviews ')"
   ]
  },
  {
   "cell_type": "markdown",
   "metadata": {},
   "source": [
    "ML method"
   ]
  },
  {
   "cell_type": "code",
   "execution_count": 10,
   "metadata": {},
   "outputs": [],
   "source": [
    "from nltk.tokenize import TweetTokenizer\n",
    "from sklearn.feature_extraction.text import TfidfVectorizer\n",
    "tokenizer = TweetTokenizer()"
   ]
  },
  {
   "cell_type": "code",
   "execution_count": 11,
   "metadata": {},
   "outputs": [],
   "source": [
    "vectorizer = TfidfVectorizer(ngram_range=(1, 3), tokenizer=tokenizer.tokenize)\n",
    "vectorizer.fit(df['tweet'])\n",
    "train_vectorized = vectorizer.transform(df['tweet'])\n",
    "# test_vectorized = vectorizer.transform(test['Phrase'])"
   ]
  },
  {
   "cell_type": "code",
   "execution_count": 12,
   "metadata": {},
   "outputs": [],
   "source": [
    "y = df['senti']"
   ]
  },
  {
   "cell_type": "code",
   "execution_count": 13,
   "metadata": {},
   "outputs": [],
   "source": [
    "from sklearn.model_selection import train_test_split\n",
    "x_train , x_val, y_train , y_val = train_test_split(train_vectorized,y,test_size = 0.2)"
   ]
  },
  {
   "cell_type": "code",
   "execution_count": 14,
   "metadata": {},
   "outputs": [],
   "source": [
    "from sklearn.metrics import classification_report\n",
    "from sklearn.metrics import accuracy_score"
   ]
  },
  {
   "cell_type": "code",
   "execution_count": 15,
   "metadata": {},
   "outputs": [],
   "source": [
    "from sklearn.linear_model import LogisticRegression\n",
    "from sklearn.svm import LinearSVC\n",
    "from sklearn.ensemble import RandomForestClassifier\n",
    "from sklearn.ensemble import VotingClassifier\n",
    "from sklearn.multiclass import OneVsRestClassifier"
   ]
  },
  {
   "cell_type": "code",
   "execution_count": 16,
   "metadata": {},
   "outputs": [
    {
     "name": "stdout",
     "output_type": "stream",
     "text": [
      "              precision    recall  f1-score   support\n",
      "\n",
      "          -1       0.14      0.62      0.23         8\n",
      "           0       0.03      1.00      0.05         1\n",
      "           1       0.98      0.42      0.59       111\n",
      "\n",
      "   micro avg       0.44      0.44      0.44       120\n",
      "   macro avg       0.38      0.68      0.29       120\n",
      "weighted avg       0.92      0.44      0.56       120\n",
      "\n",
      "0.44166666666666665\n"
     ]
    },
    {
     "name": "stderr",
     "output_type": "stream",
     "text": [
      "/anaconda3/lib/python3.7/site-packages/sklearn/linear_model/logistic.py:433: FutureWarning: Default solver will be changed to 'lbfgs' in 0.22. Specify a solver to silence this warning.\n",
      "  FutureWarning)\n"
     ]
    }
   ],
   "source": [
    "lr = LogisticRegression()\n",
    "ovr = OneVsRestClassifier(lr)\n",
    "ovr.fit(x_train,y_train)\n",
    "print(classification_report( ovr.predict(x_val) , y_val))\n",
    "print(accuracy_score( ovr.predict(x_val) , y_val ))"
   ]
  },
  {
   "cell_type": "code",
   "execution_count": 17,
   "metadata": {},
   "outputs": [
    {
     "name": "stdout",
     "output_type": "stream",
     "text": [
      "              precision    recall  f1-score   support\n",
      "\n",
      "          -1       0.56      0.71      0.63        28\n",
      "           0       0.14      0.71      0.23         7\n",
      "           1       0.90      0.51      0.65        85\n",
      "\n",
      "   micro avg       0.57      0.57      0.57       120\n",
      "   macro avg       0.53      0.64      0.50       120\n",
      "weighted avg       0.77      0.57      0.62       120\n",
      "\n",
      "0.5666666666666667\n"
     ]
    }
   ],
   "source": [
    "svm = LinearSVC()\n",
    "svm.fit(x_train,y_train)\n",
    "print(classification_report( svm.predict(x_val) , y_val))\n",
    "print(accuracy_score( svm.predict(x_val) , y_val ))"
   ]
  },
  {
   "cell_type": "code",
   "execution_count": 18,
   "metadata": {},
   "outputs": [
    {
     "name": "stdout",
     "output_type": "stream",
     "text": [
      "              precision    recall  f1-score   support\n",
      "\n",
      "          -1       0.08      0.75      0.15         4\n",
      "           0       0.03      1.00      0.05         1\n",
      "           1       1.00      0.42      0.59       115\n",
      "\n",
      "   micro avg       0.43      0.43      0.43       120\n",
      "   macro avg       0.37      0.72      0.26       120\n",
      "weighted avg       0.96      0.43      0.57       120\n",
      "\n",
      "0.43333333333333335\n"
     ]
    }
   ],
   "source": [
    "from sklearn.naive_bayes import MultinomialNB\n",
    "mnb = MultinomialNB()\n",
    "mnb.fit(x_train,y_train)\n",
    "print(classification_report( mnb.predict(x_val) , y_val))\n",
    "print(accuracy_score( mnb.predict(x_val) , y_val ))"
   ]
  },
  {
   "cell_type": "code",
   "execution_count": 22,
   "metadata": {},
   "outputs": [],
   "source": [
    "from malay_stopwords import stopwords, stopwords_1, _list_laugh\n",
    "from malay_normalization import rules_normalizer, sounds"
   ]
  },
  {
   "cell_type": "code",
   "execution_count": 23,
   "metadata": {},
   "outputs": [],
   "source": [
    "#pre-processing normalization\n",
    "def _dict_replace(wordlist, _dict):\n",
    "        return [_dict.get(w, w) for w in wordlist]\n",
    "\n",
    "def cleaning2(e_texts,rules):\n",
    "    text1 = e_texts.split()   \n",
    "    text1 = _dict_replace(text1, rules)\n",
    "    text1 = ' '.join(text1)\n",
    "    return text1"
   ]
  },
  {
   "cell_type": "code",
   "execution_count": 26,
   "metadata": {},
   "outputs": [],
   "source": [
    "#preprocessing removing stopwords & symbol\n",
    "import re\n",
    "STOPWORDS = set(stopwords + stopwords_1 + _list_laugh)\n",
    "def clean_tweet(tweet):\n",
    "    comments = ' '.join(re.sub(\"(@[A-Za-z0-9]+)|([^0-9A-Za-z \\t])|(\\w+:\\/\\/\\S+)|[^a-zA-Z#]\",\" \",str(tweet)).split())\n",
    "    comments = comments.lower().split()\n",
    "    comments = ' '.join([word for word in comments if word not in STOPWORDS])\n",
    "    return comments"
   ]
  },
  {
   "cell_type": "code",
   "execution_count": 32,
   "metadata": {},
   "outputs": [
    {
     "data": {
      "text/html": [
       "<div>\n",
       "<style scoped>\n",
       "    .dataframe tbody tr th:only-of-type {\n",
       "        vertical-align: middle;\n",
       "    }\n",
       "\n",
       "    .dataframe tbody tr th {\n",
       "        vertical-align: top;\n",
       "    }\n",
       "\n",
       "    .dataframe thead th {\n",
       "        text-align: right;\n",
       "    }\n",
       "</style>\n",
       "<table border=\"1\" class=\"dataframe\">\n",
       "  <thead>\n",
       "    <tr style=\"text-align: right;\">\n",
       "      <th></th>\n",
       "      <th>tweet</th>\n",
       "      <th>senti</th>\n",
       "      <th>tweets</th>\n",
       "    </tr>\n",
       "  </thead>\n",
       "  <tbody>\n",
       "    <tr>\n",
       "      <th>0</th>\n",
       "      <td>turn off betul kedai makan bancuh air tak seda...</td>\n",
       "      <td>-1</td>\n",
       "      <td>turn off makan bancuh air tak sedap ni tak pay...</td>\n",
       "    </tr>\n",
       "    <tr>\n",
       "      <th>1</th>\n",
       "      <td>Mende tah aku makan tadi. Tak sedap. *sebab bo...</td>\n",
       "      <td>-1</td>\n",
       "      <td>mende tah makan tak sedap claim makan mengarut</td>\n",
       "    </tr>\n",
       "    <tr>\n",
       "      <th>2</th>\n",
       "      <td>@nikasyrvf Mestii, sini kedai makan bukan seda...</td>\n",
       "      <td>-1</td>\n",
       "      <td>mestii makan bukan sedap haha</td>\n",
       "    </tr>\n",
       "    <tr>\n",
       "      <th>3</th>\n",
       "      <td>Tapi milo dekat fast food restaurant tak sedap...</td>\n",
       "      <td>-1</td>\n",
       "      <td>milo fast food restaurant tak sedap</td>\n",
       "    </tr>\n",
       "    <tr>\n",
       "      <th>4</th>\n",
       "      <td>Semua makanan bau tengik. Loya tekak dibuatnya...</td>\n",
       "      <td>-1</td>\n",
       "      <td>bau tengik loya tekak ape teruk peel demam pre...</td>\n",
       "    </tr>\n",
       "  </tbody>\n",
       "</table>\n",
       "</div>"
      ],
      "text/plain": [
       "                                               tweet  senti  \\\n",
       "0  turn off betul kedai makan bancuh air tak seda...     -1   \n",
       "1  Mende tah aku makan tadi. Tak sedap. *sebab bo...     -1   \n",
       "2  @nikasyrvf Mestii, sini kedai makan bukan seda...     -1   \n",
       "3  Tapi milo dekat fast food restaurant tak sedap...     -1   \n",
       "4  Semua makanan bau tengik. Loya tekak dibuatnya...     -1   \n",
       "\n",
       "                                              tweets  \n",
       "0  turn off makan bancuh air tak sedap ni tak pay...  \n",
       "1     mende tah makan tak sedap claim makan mengarut  \n",
       "2                      mestii makan bukan sedap haha  \n",
       "3                milo fast food restaurant tak sedap  \n",
       "4  bau tengik loya tekak ape teruk peel demam pre...  "
      ]
     },
     "execution_count": 32,
     "metadata": {},
     "output_type": "execute_result"
    }
   ],
   "source": [
    "df_m=df\n",
    "import numpy as np\n",
    "df_m['tweets']=np.array([clean_tweet(text) for text in df.tweet])\n",
    "df_m.head(5)"
   ]
  },
  {
   "cell_type": "code",
   "execution_count": 33,
   "metadata": {},
   "outputs": [
    {
     "data": {
      "text/html": [
       "<div>\n",
       "<style scoped>\n",
       "    .dataframe tbody tr th:only-of-type {\n",
       "        vertical-align: middle;\n",
       "    }\n",
       "\n",
       "    .dataframe tbody tr th {\n",
       "        vertical-align: top;\n",
       "    }\n",
       "\n",
       "    .dataframe thead th {\n",
       "        text-align: right;\n",
       "    }\n",
       "</style>\n",
       "<table border=\"1\" class=\"dataframe\">\n",
       "  <thead>\n",
       "    <tr style=\"text-align: right;\">\n",
       "      <th></th>\n",
       "      <th>tweet</th>\n",
       "      <th>senti</th>\n",
       "      <th>tweets</th>\n",
       "    </tr>\n",
       "  </thead>\n",
       "  <tbody>\n",
       "    <tr>\n",
       "      <th>0</th>\n",
       "      <td>turn off betul kedai makan bancuh air tak seda...</td>\n",
       "      <td>-1</td>\n",
       "      <td>turn off makan bancuh air tak sedap ini tak pa...</td>\n",
       "    </tr>\n",
       "    <tr>\n",
       "      <th>1</th>\n",
       "      <td>Mende tah aku makan tadi. Tak sedap. *sebab bo...</td>\n",
       "      <td>-1</td>\n",
       "      <td>mende entah makan tak sedap claim makan mengarut</td>\n",
       "    </tr>\n",
       "    <tr>\n",
       "      <th>2</th>\n",
       "      <td>@nikasyrvf Mestii, sini kedai makan bukan seda...</td>\n",
       "      <td>-1</td>\n",
       "      <td>mestii makan bukan sedap haha</td>\n",
       "    </tr>\n",
       "    <tr>\n",
       "      <th>3</th>\n",
       "      <td>Tapi milo dekat fast food restaurant tak sedap...</td>\n",
       "      <td>-1</td>\n",
       "      <td>milo fast food restaurant tak sedap</td>\n",
       "    </tr>\n",
       "    <tr>\n",
       "      <th>4</th>\n",
       "      <td>Semua makanan bau tengik. Loya tekak dibuatnya...</td>\n",
       "      <td>-1</td>\n",
       "      <td>bau tengik loya tekak apa teruk peel demam pre...</td>\n",
       "    </tr>\n",
       "  </tbody>\n",
       "</table>\n",
       "</div>"
      ],
      "text/plain": [
       "                                               tweet  senti  \\\n",
       "0  turn off betul kedai makan bancuh air tak seda...     -1   \n",
       "1  Mende tah aku makan tadi. Tak sedap. *sebab bo...     -1   \n",
       "2  @nikasyrvf Mestii, sini kedai makan bukan seda...     -1   \n",
       "3  Tapi milo dekat fast food restaurant tak sedap...     -1   \n",
       "4  Semua makanan bau tengik. Loya tekak dibuatnya...     -1   \n",
       "\n",
       "                                              tweets  \n",
       "0  turn off makan bancuh air tak sedap ini tak pa...  \n",
       "1   mende entah makan tak sedap claim makan mengarut  \n",
       "2                      mestii makan bukan sedap haha  \n",
       "3                milo fast food restaurant tak sedap  \n",
       "4  bau tengik loya tekak apa teruk peel demam pre...  "
      ]
     },
     "execution_count": 33,
     "metadata": {},
     "output_type": "execute_result"
    }
   ],
   "source": [
    "df['tweets']=np.array([cleaning2(text,rules_normalizer) for text in df.tweets])\n",
    "df.head(5)"
   ]
  },
  {
   "cell_type": "code",
   "execution_count": 34,
   "metadata": {},
   "outputs": [
    {
     "data": {
      "text/html": [
       "<div>\n",
       "<style scoped>\n",
       "    .dataframe tbody tr th:only-of-type {\n",
       "        vertical-align: middle;\n",
       "    }\n",
       "\n",
       "    .dataframe tbody tr th {\n",
       "        vertical-align: top;\n",
       "    }\n",
       "\n",
       "    .dataframe thead th {\n",
       "        text-align: right;\n",
       "    }\n",
       "</style>\n",
       "<table border=\"1\" class=\"dataframe\">\n",
       "  <thead>\n",
       "    <tr style=\"text-align: right;\">\n",
       "      <th></th>\n",
       "      <th>tweet</th>\n",
       "      <th>senti</th>\n",
       "      <th>tweets</th>\n",
       "    </tr>\n",
       "  </thead>\n",
       "  <tbody>\n",
       "    <tr>\n",
       "      <th>0</th>\n",
       "      <td>turn off betul kedai makan bancuh air tak seda...</td>\n",
       "      <td>-1</td>\n",
       "      <td>turn off makan bancuh air tak sedap ini tak pa...</td>\n",
       "    </tr>\n",
       "    <tr>\n",
       "      <th>1</th>\n",
       "      <td>Mende tah aku makan tadi. Tak sedap. *sebab bo...</td>\n",
       "      <td>-1</td>\n",
       "      <td>mende entah makan tak sedap claim makan mengarut</td>\n",
       "    </tr>\n",
       "    <tr>\n",
       "      <th>2</th>\n",
       "      <td>@nikasyrvf Mestii, sini kedai makan bukan seda...</td>\n",
       "      <td>-1</td>\n",
       "      <td>mestii makan bukan sedap haha</td>\n",
       "    </tr>\n",
       "    <tr>\n",
       "      <th>3</th>\n",
       "      <td>Tapi milo dekat fast food restaurant tak sedap...</td>\n",
       "      <td>-1</td>\n",
       "      <td>milo fast food restaurant tak sedap</td>\n",
       "    </tr>\n",
       "    <tr>\n",
       "      <th>4</th>\n",
       "      <td>Semua makanan bau tengik. Loya tekak dibuatnya...</td>\n",
       "      <td>-1</td>\n",
       "      <td>bau tengik loya tekak apa teruk peel demam pre...</td>\n",
       "    </tr>\n",
       "  </tbody>\n",
       "</table>\n",
       "</div>"
      ],
      "text/plain": [
       "                                               tweet  senti  \\\n",
       "0  turn off betul kedai makan bancuh air tak seda...     -1   \n",
       "1  Mende tah aku makan tadi. Tak sedap. *sebab bo...     -1   \n",
       "2  @nikasyrvf Mestii, sini kedai makan bukan seda...     -1   \n",
       "3  Tapi milo dekat fast food restaurant tak sedap...     -1   \n",
       "4  Semua makanan bau tengik. Loya tekak dibuatnya...     -1   \n",
       "\n",
       "                                              tweets  \n",
       "0  turn off makan bancuh air tak sedap ini tak pa...  \n",
       "1   mende entah makan tak sedap claim makan mengarut  \n",
       "2                      mestii makan bukan sedap haha  \n",
       "3                milo fast food restaurant tak sedap  \n",
       "4  bau tengik loya tekak apa teruk peel demam pre...  "
      ]
     },
     "execution_count": 34,
     "metadata": {},
     "output_type": "execute_result"
    }
   ],
   "source": [
    "df['tweets']=np.array([cleaning2(text,sounds) for text in df.tweets])\n",
    "df.head(5)"
   ]
  },
  {
   "cell_type": "code",
   "execution_count": 35,
   "metadata": {},
   "outputs": [],
   "source": [
    "from nltk.tokenize import TweetTokenizer\n",
    "from sklearn.feature_extraction.text import TfidfVectorizer\n",
    "tokenizer_m = TweetTokenizer()"
   ]
  },
  {
   "cell_type": "code",
   "execution_count": 36,
   "metadata": {},
   "outputs": [],
   "source": [
    "vectorizer_m = TfidfVectorizer(ngram_range=(1, 3), tokenizer=tokenizer_m.tokenize)\n",
    "vectorizer_m.fit(df_m['tweets'])\n",
    "train_vectorized_m = vectorizer_m.transform(df_m['tweets'])"
   ]
  },
  {
   "cell_type": "code",
   "execution_count": 38,
   "metadata": {},
   "outputs": [],
   "source": [
    "y_m=df_m['senti']"
   ]
  },
  {
   "cell_type": "code",
   "execution_count": 39,
   "metadata": {},
   "outputs": [],
   "source": [
    "from sklearn.model_selection import train_test_split\n",
    "x_train_m , x_val_m, y_train_m , y_val_m = train_test_split(train_vectorized_m,y_m,test_size = 0.2)"
   ]
  },
  {
   "cell_type": "code",
   "execution_count": 40,
   "metadata": {},
   "outputs": [
    {
     "name": "stdout",
     "output_type": "stream",
     "text": [
      "              precision    recall  f1-score   support\n",
      "\n",
      "          -1       0.30      0.86      0.44        14\n",
      "           0       0.04      1.00      0.07         1\n",
      "           1       1.00      0.50      0.67       105\n",
      "\n",
      "   micro avg       0.55      0.55      0.55       120\n",
      "   macro avg       0.45      0.79      0.40       120\n",
      "weighted avg       0.91      0.55      0.64       120\n",
      "\n",
      "0.55\n"
     ]
    },
    {
     "name": "stderr",
     "output_type": "stream",
     "text": [
      "/anaconda3/lib/python3.7/site-packages/sklearn/linear_model/logistic.py:433: FutureWarning: Default solver will be changed to 'lbfgs' in 0.22. Specify a solver to silence this warning.\n",
      "  FutureWarning)\n"
     ]
    }
   ],
   "source": [
    "lr_m = LogisticRegression()\n",
    "ovr_m = OneVsRestClassifier(lr_m)\n",
    "ovr_m.fit(x_train_m,y_train_m)\n",
    "print(classification_report( ovr_m.predict(x_val_m) , y_val_m))\n",
    "print(accuracy_score( ovr_m.predict(x_val_m) , y_val_m ))"
   ]
  },
  {
   "cell_type": "code",
   "execution_count": 42,
   "metadata": {},
   "outputs": [
    {
     "name": "stdout",
     "output_type": "stream",
     "text": [
      "              precision    recall  f1-score   support\n",
      "\n",
      "          -1       0.70      0.88      0.78        32\n",
      "           0       0.26      0.88      0.40         8\n",
      "           1       0.98      0.65      0.78        80\n",
      "\n",
      "   micro avg       0.72      0.72      0.73       120\n",
      "   macro avg       0.65      0.80      0.65       120\n",
      "weighted avg       0.86      0.72      0.76       120\n",
      "\n",
      "0.725\n"
     ]
    }
   ],
   "source": [
    "svm_m = LinearSVC()\n",
    "svm_m.fit(x_train_m,y_train_m)\n",
    "print(classification_report( svm_m.predict(x_val_m) , y_val_m))\n",
    "print(accuracy_score( svm_m.predict(x_val_m) , y_val_m ))"
   ]
  },
  {
   "cell_type": "code",
   "execution_count": null,
   "metadata": {},
   "outputs": [],
   "source": []
  }
 ],
 "metadata": {
  "kernelspec": {
   "display_name": "Python 3",
   "language": "python",
   "name": "python3"
  },
  "language_info": {
   "codemirror_mode": {
    "name": "ipython",
    "version": 3
   },
   "file_extension": ".py",
   "mimetype": "text/x-python",
   "name": "python",
   "nbconvert_exporter": "python",
   "pygments_lexer": "ipython3",
   "version": "3.7.1"
  }
 },
 "nbformat": 4,
 "nbformat_minor": 2
}
